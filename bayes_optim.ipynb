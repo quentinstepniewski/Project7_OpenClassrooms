{
 "cells": [
  {
   "cell_type": "markdown",
   "metadata": {},
   "source": [
    "# Import"
   ]
  },
  {
   "cell_type": "code",
   "execution_count": 12,
   "metadata": {},
   "outputs": [],
   "source": [
    "import pandas as pd\n",
    "import numpy as np\n",
    "import matplotlib.pyplot as plt\n",
    "import seaborn as sns\n",
    "%matplotlib inline\n",
    "import pickle\n",
    "import time\n",
    "\n",
    "from imblearn.under_sampling import RandomUnderSampler\n",
    "from imblearn.over_sampling import SMOTE\n",
    "\n",
    "from sklearn.model_selection import train_test_split\n",
    "from sklearn.model_selection import KFold, StratifiedKFold\n",
    "\n",
    "from sklearn.preprocessing import StandardScaler\n",
    "from sklearn.model_selection import GridSearchCV,ParameterGrid, cross_validate\n",
    "from bayes_opt import BayesianOptimization\n",
    "\n",
    "from sklearn.ensemble import RandomForestClassifier\n",
    "from  xgboost import XGBClassifier\n",
    "from lightgbm import LGBMClassifier\n",
    "from sklearn.metrics import fbeta_score,roc_auc_score,confusion_matrix,recall_score"
   ]
  },
  {
   "cell_type": "code",
   "execution_count": 5,
   "metadata": {},
   "outputs": [],
   "source": [
    "train = pd.read_csv('train.csv')\n",
    "val = pd.read_csv('validation2.csv')\n",
    "test = pd.read_csv('test2.csv')"
   ]
  },
  {
   "cell_type": "code",
   "execution_count": 6,
   "metadata": {},
   "outputs": [],
   "source": [
    "y_train = np.array(train.TARGET)\n",
    "train.drop(['TARGET'], axis = 1, inplace = True)\n",
    "X_train = train.values"
   ]
  },
  {
   "cell_type": "code",
   "execution_count": 7,
   "metadata": {},
   "outputs": [],
   "source": [
    "y_val = np.array(val.TARGET)\n",
    "val.drop(['TARGET'], axis = 1, inplace = True)\n",
    "X_val = val.values"
   ]
  },
  {
   "cell_type": "code",
   "execution_count": 8,
   "metadata": {},
   "outputs": [],
   "source": [
    "std = StandardScaler()"
   ]
  },
  {
   "cell_type": "code",
   "execution_count": 24,
   "metadata": {},
   "outputs": [],
   "source": [
    "def build_target_function(X_train, y_train, n_splits = 5) :\n",
    "    def LGB_bayesian(learning_rate, n_estimators,\n",
    "                    max_depth, min_child_weight, min_child_samples,\n",
    "                    subsample, colsample_bytree,\n",
    "                    reg_lambda, reg_alpha) :\n",
    "\n",
    "        max_depth = int(round(max_depth))\n",
    "        min_child_samples = int(round(min_child_samples))\n",
    "        n_estimators = int(round(n_estimators))\n",
    "        reg_lambda = 10**(-reg_lambda)\n",
    "        reg_alpha = 10**(-reg_alpha)\n",
    "        learning_rate = 10**(-learning_rate)\n",
    "        \n",
    "        smote = SMOTE(random_state = 42)\n",
    "        skf = StratifiedKFold(random_state = 42, n_splits = n_splits, shuffle = True)\n",
    "        \n",
    "        auc = 0\n",
    "        for train_index, val_index in skf.split(X_train, y_train):\n",
    "            Xtr, Xval = X_train[train_index], X_train[val_index]\n",
    "            Ytr, Yval = y_train[train_index], y_train[val_index]\n",
    "            X_smote, y_smote = smote.fit_resample(Xtr, Ytr)\n",
    "            \n",
    "            model = LGBMClassifier(learning_rate = learning_rate, n_estimators = n_estimators,\n",
    "                                max_depth = max_depth, min_child_weight = min_child_weight, min_child_samples = min_child_samples,\n",
    "                                subsample = subsample, colsample_bytree = colsample_bytree,\n",
    "                                reg_lambda = reg_lambda, reg_alpha = reg_alpha,\n",
    "                                verbosity = -1)\n",
    "            model.fit(X_smote, y_smote, verbose = -1)\n",
    "\n",
    "            Ypred = model.predict(Xval)\n",
    "            auc += fbeta_score(Yval, Ypred,3)\n",
    "        \n",
    "        return auc / n_splits\n",
    "    return LGB_bayesian"
   ]
  },
  {
   "cell_type": "code",
   "execution_count": 25,
   "metadata": {},
   "outputs": [],
   "source": [
    "bounds_LGB = {'learning_rate' : (0,4), 'n_estimators' : (500,3500),\n",
    "                'max_depth' : (2,30), 'min_child_weight': (2,10), 'min_child_samples': (1,500),\n",
    "                'subsample': (0.6,1), 'colsample_bytree':(0.6,1),\n",
    "                'reg_lambda' : (0,4), 'reg_alpha':(0,4)}"
   ]
  },
  {
   "cell_type": "code",
   "execution_count": 26,
   "metadata": {},
   "outputs": [
    {
     "name": "stdout",
     "output_type": "stream",
     "text": [
      "|   iter    |  target   | colsam... | learni... | max_depth | min_ch... | min_ch... | n_esti... | reg_alpha | reg_la... | subsample |\n",
      "-------------------------------------------------------------------------------------------------------------------------------------\n"
     ]
    },
    {
     "name": "stderr",
     "output_type": "stream",
     "text": [
      "C:\\Users\\quent\\AppData\\Roaming\\Python\\Python37\\site-packages\\sklearn\\utils\\validation.py:71: FutureWarning: Pass beta=3 as keyword args. From version 0.25 passing these as positional arguments will result in an error\n",
      "  FutureWarning)\n"
     ]
    },
    {
     "name": "stdout",
     "output_type": "stream",
     "text": [
      "[LightGBM] [Warning] Accuracy may be bad since you didn't set num_leaves and 2^max_depth > num_leaves\n"
     ]
    },
    {
     "name": "stderr",
     "output_type": "stream",
     "text": [
      "C:\\Users\\quent\\AppData\\Roaming\\Python\\Python37\\site-packages\\sklearn\\utils\\validation.py:71: FutureWarning: Pass beta=3 as keyword args. From version 0.25 passing these as positional arguments will result in an error\n",
      "  FutureWarning)\n"
     ]
    },
    {
     "name": "stdout",
     "output_type": "stream",
     "text": [
      "[LightGBM] [Warning] Accuracy may be bad since you didn't set num_leaves and 2^max_depth > num_leaves\n"
     ]
    },
    {
     "name": "stderr",
     "output_type": "stream",
     "text": [
      "C:\\Users\\quent\\AppData\\Roaming\\Python\\Python37\\site-packages\\sklearn\\utils\\validation.py:71: FutureWarning: Pass beta=3 as keyword args. From version 0.25 passing these as positional arguments will result in an error\n",
      "  FutureWarning)\n"
     ]
    },
    {
     "name": "stdout",
     "output_type": "stream",
     "text": [
      "[LightGBM] [Warning] Accuracy may be bad since you didn't set num_leaves and 2^max_depth > num_leaves\n"
     ]
    },
    {
     "name": "stderr",
     "output_type": "stream",
     "text": [
      "C:\\Users\\quent\\AppData\\Roaming\\Python\\Python37\\site-packages\\sklearn\\utils\\validation.py:71: FutureWarning: Pass beta=3 as keyword args. From version 0.25 passing these as positional arguments will result in an error\n",
      "  FutureWarning)\n"
     ]
    },
    {
     "name": "stdout",
     "output_type": "stream",
     "text": [
      "[LightGBM] [Warning] Accuracy may be bad since you didn't set num_leaves and 2^max_depth > num_leaves\n"
     ]
    },
    {
     "name": "stderr",
     "output_type": "stream",
     "text": [
      "C:\\Users\\quent\\AppData\\Roaming\\Python\\Python37\\site-packages\\sklearn\\utils\\validation.py:71: FutureWarning: Pass beta=3 as keyword args. From version 0.25 passing these as positional arguments will result in an error\n",
      "  FutureWarning)\n"
     ]
    },
    {
     "name": "stdout",
     "output_type": "stream",
     "text": [
      "| \u001b[0m 1       \u001b[0m | \u001b[0m 0.03412 \u001b[0m | \u001b[0m 0.7766  \u001b[0m | \u001b[0m 1.857   \u001b[0m | \u001b[0m 11.14   \u001b[0m | \u001b[0m 105.9   \u001b[0m | \u001b[0m 8.237   \u001b[0m | \u001b[0m 2.806e+0\u001b[0m | \u001b[0m 2.461   \u001b[0m | \u001b[0m 3.539   \u001b[0m | \u001b[0m 0.7147  \u001b[0m |\n"
     ]
    },
    {
     "name": "stderr",
     "output_type": "stream",
     "text": [
      "C:\\Users\\quent\\AppData\\Roaming\\Python\\Python37\\site-packages\\sklearn\\utils\\validation.py:71: FutureWarning: Pass beta=3 as keyword args. From version 0.25 passing these as positional arguments will result in an error\n",
      "  FutureWarning)\n",
      "C:\\Users\\quent\\AppData\\Roaming\\Python\\Python37\\site-packages\\sklearn\\utils\\validation.py:71: FutureWarning: Pass beta=3 as keyword args. From version 0.25 passing these as positional arguments will result in an error\n",
      "  FutureWarning)\n",
      "C:\\Users\\quent\\AppData\\Roaming\\Python\\Python37\\site-packages\\sklearn\\utils\\validation.py:71: FutureWarning: Pass beta=3 as keyword args. From version 0.25 passing these as positional arguments will result in an error\n",
      "  FutureWarning)\n",
      "C:\\Users\\quent\\AppData\\Roaming\\Python\\Python37\\site-packages\\sklearn\\utils\\validation.py:71: FutureWarning: Pass beta=3 as keyword args. From version 0.25 passing these as positional arguments will result in an error\n",
      "  FutureWarning)\n",
      "C:\\Users\\quent\\AppData\\Roaming\\Python\\Python37\\site-packages\\sklearn\\utils\\validation.py:71: FutureWarning: Pass beta=3 as keyword args. From version 0.25 passing these as positional arguments will result in an error\n",
      "  FutureWarning)\n"
     ]
    },
    {
     "name": "stdout",
     "output_type": "stream",
     "text": [
      "| \u001b[0m 2       \u001b[0m | \u001b[0m 0.000111\u001b[0m | \u001b[0m 0.9707  \u001b[0m | \u001b[0m 2.486   \u001b[0m | \u001b[0m 3.941   \u001b[0m | \u001b[0m 85.52   \u001b[0m | \u001b[0m 7.612   \u001b[0m | \u001b[0m 1.857e+0\u001b[0m | \u001b[0m 2.604   \u001b[0m | \u001b[0m 0.8028  \u001b[0m | \u001b[0m 0.6239  \u001b[0m |\n",
      "[LightGBM] [Warning] Accuracy may be bad since you didn't set num_leaves and 2^max_depth > num_leaves\n"
     ]
    },
    {
     "name": "stderr",
     "output_type": "stream",
     "text": [
      "C:\\Users\\quent\\AppData\\Roaming\\Python\\Python37\\site-packages\\sklearn\\utils\\validation.py:71: FutureWarning: Pass beta=3 as keyword args. From version 0.25 passing these as positional arguments will result in an error\n",
      "  FutureWarning)\n"
     ]
    },
    {
     "name": "stdout",
     "output_type": "stream",
     "text": [
      "[LightGBM] [Warning] Accuracy may be bad since you didn't set num_leaves and 2^max_depth > num_leaves\n"
     ]
    },
    {
     "name": "stderr",
     "output_type": "stream",
     "text": [
      "C:\\Users\\quent\\AppData\\Roaming\\Python\\Python37\\site-packages\\sklearn\\utils\\validation.py:71: FutureWarning: Pass beta=3 as keyword args. From version 0.25 passing these as positional arguments will result in an error\n",
      "  FutureWarning)\n"
     ]
    },
    {
     "name": "stdout",
     "output_type": "stream",
     "text": [
      "[LightGBM] [Warning] Accuracy may be bad since you didn't set num_leaves and 2^max_depth > num_leaves\n"
     ]
    },
    {
     "name": "stderr",
     "output_type": "stream",
     "text": [
      "C:\\Users\\quent\\AppData\\Roaming\\Python\\Python37\\site-packages\\sklearn\\utils\\validation.py:71: FutureWarning: Pass beta=3 as keyword args. From version 0.25 passing these as positional arguments will result in an error\n",
      "  FutureWarning)\n"
     ]
    },
    {
     "name": "stdout",
     "output_type": "stream",
     "text": [
      "[LightGBM] [Warning] Accuracy may be bad since you didn't set num_leaves and 2^max_depth > num_leaves\n"
     ]
    },
    {
     "name": "stderr",
     "output_type": "stream",
     "text": [
      "C:\\Users\\quent\\AppData\\Roaming\\Python\\Python37\\site-packages\\sklearn\\utils\\validation.py:71: FutureWarning: Pass beta=3 as keyword args. From version 0.25 passing these as positional arguments will result in an error\n",
      "  FutureWarning)\n"
     ]
    },
    {
     "name": "stdout",
     "output_type": "stream",
     "text": [
      "[LightGBM] [Warning] Accuracy may be bad since you didn't set num_leaves and 2^max_depth > num_leaves\n"
     ]
    },
    {
     "name": "stderr",
     "output_type": "stream",
     "text": [
      "C:\\Users\\quent\\AppData\\Roaming\\Python\\Python37\\site-packages\\sklearn\\utils\\validation.py:71: FutureWarning: Pass beta=3 as keyword args. From version 0.25 passing these as positional arguments will result in an error\n",
      "  FutureWarning)\n"
     ]
    },
    {
     "name": "stdout",
     "output_type": "stream",
     "text": [
      "| \u001b[95m 3       \u001b[0m | \u001b[95m 0.05797 \u001b[0m | \u001b[95m 0.9016  \u001b[0m | \u001b[95m 0.9348  \u001b[0m | \u001b[95m 21.03   \u001b[0m | \u001b[95m 479.0   \u001b[0m | \u001b[95m 6.994   \u001b[0m | \u001b[95m 2.741e+0\u001b[0m | \u001b[95m 3.151   \u001b[0m | \u001b[95m 3.757   \u001b[0m | \u001b[95m 0.8264  \u001b[0m |\n",
      "[LightGBM] [Warning] Accuracy may be bad since you didn't set num_leaves and 2^max_depth > num_leaves\n"
     ]
    },
    {
     "name": "stderr",
     "output_type": "stream",
     "text": [
      "C:\\Users\\quent\\AppData\\Roaming\\Python\\Python37\\site-packages\\sklearn\\utils\\validation.py:71: FutureWarning: Pass beta=3 as keyword args. From version 0.25 passing these as positional arguments will result in an error\n",
      "  FutureWarning)\n"
     ]
    },
    {
     "name": "stdout",
     "output_type": "stream",
     "text": [
      "[LightGBM] [Warning] Accuracy may be bad since you didn't set num_leaves and 2^max_depth > num_leaves\n"
     ]
    },
    {
     "name": "stderr",
     "output_type": "stream",
     "text": [
      "C:\\Users\\quent\\AppData\\Roaming\\Python\\Python37\\site-packages\\sklearn\\utils\\validation.py:71: FutureWarning: Pass beta=3 as keyword args. From version 0.25 passing these as positional arguments will result in an error\n",
      "  FutureWarning)\n"
     ]
    },
    {
     "name": "stdout",
     "output_type": "stream",
     "text": [
      "[LightGBM] [Warning] Accuracy may be bad since you didn't set num_leaves and 2^max_depth > num_leaves\n"
     ]
    },
    {
     "name": "stderr",
     "output_type": "stream",
     "text": [
      "C:\\Users\\quent\\AppData\\Roaming\\Python\\Python37\\site-packages\\sklearn\\utils\\validation.py:71: FutureWarning: Pass beta=3 as keyword args. From version 0.25 passing these as positional arguments will result in an error\n",
      "  FutureWarning)\n"
     ]
    },
    {
     "name": "stdout",
     "output_type": "stream",
     "text": [
      "[LightGBM] [Warning] Accuracy may be bad since you didn't set num_leaves and 2^max_depth > num_leaves\n"
     ]
    },
    {
     "name": "stderr",
     "output_type": "stream",
     "text": [
      "C:\\Users\\quent\\AppData\\Roaming\\Python\\Python37\\site-packages\\sklearn\\utils\\validation.py:71: FutureWarning: Pass beta=3 as keyword args. From version 0.25 passing these as positional arguments will result in an error\n",
      "  FutureWarning)\n"
     ]
    },
    {
     "name": "stdout",
     "output_type": "stream",
     "text": [
      "[LightGBM] [Warning] Accuracy may be bad since you didn't set num_leaves and 2^max_depth > num_leaves\n"
     ]
    },
    {
     "name": "stderr",
     "output_type": "stream",
     "text": [
      "C:\\Users\\quent\\AppData\\Roaming\\Python\\Python37\\site-packages\\sklearn\\utils\\validation.py:71: FutureWarning: Pass beta=3 as keyword args. From version 0.25 passing these as positional arguments will result in an error\n",
      "  FutureWarning)\n"
     ]
    },
    {
     "name": "stdout",
     "output_type": "stream",
     "text": [
      "| \u001b[0m 4       \u001b[0m | \u001b[0m 0.0     \u001b[0m | \u001b[0m 0.7426  \u001b[0m | \u001b[0m 2.801   \u001b[0m | \u001b[0m 20.53   \u001b[0m | \u001b[0m 32.56   \u001b[0m | \u001b[0m 5.516   \u001b[0m | \u001b[0m 1.171e+0\u001b[0m | \u001b[0m 3.333   \u001b[0m | \u001b[0m 3.441   \u001b[0m | \u001b[0m 0.9369  \u001b[0m |\n",
      "[LightGBM] [Warning] Accuracy may be bad since you didn't set num_leaves and 2^max_depth > num_leaves\n"
     ]
    },
    {
     "name": "stderr",
     "output_type": "stream",
     "text": [
      "C:\\Users\\quent\\AppData\\Roaming\\Python\\Python37\\site-packages\\sklearn\\utils\\validation.py:71: FutureWarning: Pass beta=3 as keyword args. From version 0.25 passing these as positional arguments will result in an error\n",
      "  FutureWarning)\n"
     ]
    },
    {
     "name": "stdout",
     "output_type": "stream",
     "text": [
      "[LightGBM] [Warning] Accuracy may be bad since you didn't set num_leaves and 2^max_depth > num_leaves\n"
     ]
    },
    {
     "name": "stderr",
     "output_type": "stream",
     "text": [
      "C:\\Users\\quent\\AppData\\Roaming\\Python\\Python37\\site-packages\\sklearn\\utils\\validation.py:71: FutureWarning: Pass beta=3 as keyword args. From version 0.25 passing these as positional arguments will result in an error\n",
      "  FutureWarning)\n"
     ]
    },
    {
     "name": "stdout",
     "output_type": "stream",
     "text": [
      "[LightGBM] [Warning] Accuracy may be bad since you didn't set num_leaves and 2^max_depth > num_leaves\n"
     ]
    },
    {
     "name": "stderr",
     "output_type": "stream",
     "text": [
      "C:\\Users\\quent\\AppData\\Roaming\\Python\\Python37\\site-packages\\sklearn\\utils\\validation.py:71: FutureWarning: Pass beta=3 as keyword args. From version 0.25 passing these as positional arguments will result in an error\n",
      "  FutureWarning)\n"
     ]
    },
    {
     "name": "stdout",
     "output_type": "stream",
     "text": [
      "[LightGBM] [Warning] Accuracy may be bad since you didn't set num_leaves and 2^max_depth > num_leaves\n"
     ]
    },
    {
     "name": "stderr",
     "output_type": "stream",
     "text": [
      "C:\\Users\\quent\\AppData\\Roaming\\Python\\Python37\\site-packages\\sklearn\\utils\\validation.py:71: FutureWarning: Pass beta=3 as keyword args. From version 0.25 passing these as positional arguments will result in an error\n",
      "  FutureWarning)\n"
     ]
    },
    {
     "name": "stdout",
     "output_type": "stream",
     "text": [
      "[LightGBM] [Warning] Accuracy may be bad since you didn't set num_leaves and 2^max_depth > num_leaves\n"
     ]
    },
    {
     "name": "stderr",
     "output_type": "stream",
     "text": [
      "C:\\Users\\quent\\AppData\\Roaming\\Python\\Python37\\site-packages\\sklearn\\utils\\validation.py:71: FutureWarning: Pass beta=3 as keyword args. From version 0.25 passing these as positional arguments will result in an error\n",
      "  FutureWarning)\n"
     ]
    },
    {
     "name": "stdout",
     "output_type": "stream",
     "text": [
      "| \u001b[95m 5       \u001b[0m | \u001b[95m 0.08776 \u001b[0m | \u001b[95m 0.7618  \u001b[0m | \u001b[95m 0.2434  \u001b[0m | \u001b[95m 27.47   \u001b[0m | \u001b[95m 129.7   \u001b[0m | \u001b[95m 5.104   \u001b[0m | \u001b[95m 810.0   \u001b[0m | \u001b[95m 2.081   \u001b[0m | \u001b[95m 3.768   \u001b[0m | \u001b[95m 0.7144  \u001b[0m |\n",
      "[LightGBM] [Warning] Accuracy may be bad since you didn't set num_leaves and 2^max_depth > num_leaves\n"
     ]
    },
    {
     "name": "stderr",
     "output_type": "stream",
     "text": [
      "C:\\Users\\quent\\AppData\\Roaming\\Python\\Python37\\site-packages\\sklearn\\utils\\validation.py:71: FutureWarning: Pass beta=3 as keyword args. From version 0.25 passing these as positional arguments will result in an error\n",
      "  FutureWarning)\n"
     ]
    },
    {
     "name": "stdout",
     "output_type": "stream",
     "text": [
      "[LightGBM] [Warning] Accuracy may be bad since you didn't set num_leaves and 2^max_depth > num_leaves\n"
     ]
    },
    {
     "name": "stderr",
     "output_type": "stream",
     "text": [
      "C:\\Users\\quent\\AppData\\Roaming\\Python\\Python37\\site-packages\\sklearn\\utils\\validation.py:71: FutureWarning: Pass beta=3 as keyword args. From version 0.25 passing these as positional arguments will result in an error\n",
      "  FutureWarning)\n"
     ]
    },
    {
     "name": "stdout",
     "output_type": "stream",
     "text": [
      "[LightGBM] [Warning] Accuracy may be bad since you didn't set num_leaves and 2^max_depth > num_leaves\n"
     ]
    },
    {
     "name": "stderr",
     "output_type": "stream",
     "text": [
      "C:\\Users\\quent\\AppData\\Roaming\\Python\\Python37\\site-packages\\sklearn\\utils\\validation.py:71: FutureWarning: Pass beta=3 as keyword args. From version 0.25 passing these as positional arguments will result in an error\n",
      "  FutureWarning)\n"
     ]
    },
    {
     "name": "stdout",
     "output_type": "stream",
     "text": [
      "[LightGBM] [Warning] Accuracy may be bad since you didn't set num_leaves and 2^max_depth > num_leaves\n"
     ]
    },
    {
     "name": "stderr",
     "output_type": "stream",
     "text": [
      "C:\\Users\\quent\\AppData\\Roaming\\Python\\Python37\\site-packages\\sklearn\\utils\\validation.py:71: FutureWarning: Pass beta=3 as keyword args. From version 0.25 passing these as positional arguments will result in an error\n",
      "  FutureWarning)\n"
     ]
    },
    {
     "name": "stdout",
     "output_type": "stream",
     "text": [
      "[LightGBM] [Warning] Accuracy may be bad since you didn't set num_leaves and 2^max_depth > num_leaves\n"
     ]
    },
    {
     "name": "stderr",
     "output_type": "stream",
     "text": [
      "C:\\Users\\quent\\AppData\\Roaming\\Python\\Python37\\site-packages\\sklearn\\utils\\validation.py:71: FutureWarning: Pass beta=3 as keyword args. From version 0.25 passing these as positional arguments will result in an error\n",
      "  FutureWarning)\n"
     ]
    },
    {
     "name": "stdout",
     "output_type": "stream",
     "text": [
      "| \u001b[0m 6       \u001b[0m | \u001b[0m 0.05403 \u001b[0m | \u001b[0m 0.8963  \u001b[0m | \u001b[0m 0.7214  \u001b[0m | \u001b[0m 24.78   \u001b[0m | \u001b[0m 132.5   \u001b[0m | \u001b[0m 8.597   \u001b[0m | \u001b[0m 814.9   \u001b[0m | \u001b[0m 1.777   \u001b[0m | \u001b[0m 0.5466  \u001b[0m | \u001b[0m 0.8652  \u001b[0m |\n",
      "[LightGBM] [Warning] Accuracy may be bad since you didn't set num_leaves and 2^max_depth > num_leaves\n"
     ]
    },
    {
     "name": "stderr",
     "output_type": "stream",
     "text": [
      "C:\\Users\\quent\\AppData\\Roaming\\Python\\Python37\\site-packages\\sklearn\\utils\\validation.py:71: FutureWarning: Pass beta=3 as keyword args. From version 0.25 passing these as positional arguments will result in an error\n",
      "  FutureWarning)\n"
     ]
    },
    {
     "name": "stdout",
     "output_type": "stream",
     "text": [
      "[LightGBM] [Warning] Accuracy may be bad since you didn't set num_leaves and 2^max_depth > num_leaves\n"
     ]
    },
    {
     "name": "stderr",
     "output_type": "stream",
     "text": [
      "C:\\Users\\quent\\AppData\\Roaming\\Python\\Python37\\site-packages\\sklearn\\utils\\validation.py:71: FutureWarning: Pass beta=3 as keyword args. From version 0.25 passing these as positional arguments will result in an error\n",
      "  FutureWarning)\n"
     ]
    },
    {
     "name": "stdout",
     "output_type": "stream",
     "text": [
      "[LightGBM] [Warning] Accuracy may be bad since you didn't set num_leaves and 2^max_depth > num_leaves\n"
     ]
    },
    {
     "name": "stderr",
     "output_type": "stream",
     "text": [
      "C:\\Users\\quent\\AppData\\Roaming\\Python\\Python37\\site-packages\\sklearn\\utils\\validation.py:71: FutureWarning: Pass beta=3 as keyword args. From version 0.25 passing these as positional arguments will result in an error\n",
      "  FutureWarning)\n"
     ]
    },
    {
     "name": "stdout",
     "output_type": "stream",
     "text": [
      "[LightGBM] [Warning] Accuracy may be bad since you didn't set num_leaves and 2^max_depth > num_leaves\n"
     ]
    },
    {
     "name": "stderr",
     "output_type": "stream",
     "text": [
      "C:\\Users\\quent\\AppData\\Roaming\\Python\\Python37\\site-packages\\sklearn\\utils\\validation.py:71: FutureWarning: Pass beta=3 as keyword args. From version 0.25 passing these as positional arguments will result in an error\n",
      "  FutureWarning)\n"
     ]
    },
    {
     "name": "stdout",
     "output_type": "stream",
     "text": [
      "[LightGBM] [Warning] Accuracy may be bad since you didn't set num_leaves and 2^max_depth > num_leaves\n"
     ]
    },
    {
     "name": "stderr",
     "output_type": "stream",
     "text": [
      "C:\\Users\\quent\\AppData\\Roaming\\Python\\Python37\\site-packages\\sklearn\\utils\\validation.py:71: FutureWarning: Pass beta=3 as keyword args. From version 0.25 passing these as positional arguments will result in an error\n",
      "  FutureWarning)\n"
     ]
    },
    {
     "name": "stdout",
     "output_type": "stream",
     "text": [
      "| \u001b[0m 7       \u001b[0m | \u001b[0m 0.0     \u001b[0m | \u001b[0m 0.7923  \u001b[0m | \u001b[0m 3.71    \u001b[0m | \u001b[0m 27.68   \u001b[0m | \u001b[0m 126.3   \u001b[0m | \u001b[0m 4.335   \u001b[0m | \u001b[0m 820.1   \u001b[0m | \u001b[0m 3.821   \u001b[0m | \u001b[0m 3.867   \u001b[0m | \u001b[0m 0.6293  \u001b[0m |\n",
      "[LightGBM] [Warning] Accuracy may be bad since you didn't set num_leaves and 2^max_depth > num_leaves\n"
     ]
    },
    {
     "name": "stderr",
     "output_type": "stream",
     "text": [
      "C:\\Users\\quent\\AppData\\Roaming\\Python\\Python37\\site-packages\\sklearn\\utils\\validation.py:71: FutureWarning: Pass beta=3 as keyword args. From version 0.25 passing these as positional arguments will result in an error\n",
      "  FutureWarning)\n"
     ]
    },
    {
     "name": "stdout",
     "output_type": "stream",
     "text": [
      "[LightGBM] [Warning] Accuracy may be bad since you didn't set num_leaves and 2^max_depth > num_leaves\n"
     ]
    },
    {
     "name": "stderr",
     "output_type": "stream",
     "text": [
      "C:\\Users\\quent\\AppData\\Roaming\\Python\\Python37\\site-packages\\sklearn\\utils\\validation.py:71: FutureWarning: Pass beta=3 as keyword args. From version 0.25 passing these as positional arguments will result in an error\n",
      "  FutureWarning)\n"
     ]
    },
    {
     "name": "stdout",
     "output_type": "stream",
     "text": [
      "[LightGBM] [Warning] Accuracy may be bad since you didn't set num_leaves and 2^max_depth > num_leaves\n"
     ]
    },
    {
     "name": "stderr",
     "output_type": "stream",
     "text": [
      "C:\\Users\\quent\\AppData\\Roaming\\Python\\Python37\\site-packages\\sklearn\\utils\\validation.py:71: FutureWarning: Pass beta=3 as keyword args. From version 0.25 passing these as positional arguments will result in an error\n",
      "  FutureWarning)\n"
     ]
    },
    {
     "name": "stdout",
     "output_type": "stream",
     "text": [
      "[LightGBM] [Warning] Accuracy may be bad since you didn't set num_leaves and 2^max_depth > num_leaves\n"
     ]
    },
    {
     "name": "stderr",
     "output_type": "stream",
     "text": [
      "C:\\Users\\quent\\AppData\\Roaming\\Python\\Python37\\site-packages\\sklearn\\utils\\validation.py:71: FutureWarning: Pass beta=3 as keyword args. From version 0.25 passing these as positional arguments will result in an error\n",
      "  FutureWarning)\n"
     ]
    },
    {
     "name": "stdout",
     "output_type": "stream",
     "text": [
      "[LightGBM] [Warning] Accuracy may be bad since you didn't set num_leaves and 2^max_depth > num_leaves\n"
     ]
    },
    {
     "name": "stderr",
     "output_type": "stream",
     "text": [
      "C:\\Users\\quent\\AppData\\Roaming\\Python\\Python37\\site-packages\\sklearn\\utils\\validation.py:71: FutureWarning: Pass beta=3 as keyword args. From version 0.25 passing these as positional arguments will result in an error\n",
      "  FutureWarning)\n"
     ]
    },
    {
     "name": "stdout",
     "output_type": "stream",
     "text": [
      "| \u001b[0m 8       \u001b[0m | \u001b[0m 0.06709 \u001b[0m | \u001b[0m 0.9332  \u001b[0m | \u001b[0m 0.5377  \u001b[0m | \u001b[0m 22.69   \u001b[0m | \u001b[0m 135.5   \u001b[0m | \u001b[0m 9.073   \u001b[0m | \u001b[0m 817.6   \u001b[0m | \u001b[0m 0.04514 \u001b[0m | \u001b[0m 0.251   \u001b[0m | \u001b[0m 0.6506  \u001b[0m |\n",
      "[LightGBM] [Warning] Accuracy may be bad since you didn't set num_leaves and 2^max_depth > num_leaves\n"
     ]
    },
    {
     "name": "stderr",
     "output_type": "stream",
     "text": [
      "C:\\Users\\quent\\AppData\\Roaming\\Python\\Python37\\site-packages\\sklearn\\utils\\validation.py:71: FutureWarning: Pass beta=3 as keyword args. From version 0.25 passing these as positional arguments will result in an error\n",
      "  FutureWarning)\n"
     ]
    },
    {
     "name": "stdout",
     "output_type": "stream",
     "text": [
      "[LightGBM] [Warning] Accuracy may be bad since you didn't set num_leaves and 2^max_depth > num_leaves\n"
     ]
    },
    {
     "name": "stderr",
     "output_type": "stream",
     "text": [
      "C:\\Users\\quent\\AppData\\Roaming\\Python\\Python37\\site-packages\\sklearn\\utils\\validation.py:71: FutureWarning: Pass beta=3 as keyword args. From version 0.25 passing these as positional arguments will result in an error\n",
      "  FutureWarning)\n"
     ]
    },
    {
     "name": "stdout",
     "output_type": "stream",
     "text": [
      "[LightGBM] [Warning] Accuracy may be bad since you didn't set num_leaves and 2^max_depth > num_leaves\n"
     ]
    },
    {
     "name": "stderr",
     "output_type": "stream",
     "text": [
      "C:\\Users\\quent\\AppData\\Roaming\\Python\\Python37\\site-packages\\sklearn\\utils\\validation.py:71: FutureWarning: Pass beta=3 as keyword args. From version 0.25 passing these as positional arguments will result in an error\n",
      "  FutureWarning)\n"
     ]
    },
    {
     "name": "stdout",
     "output_type": "stream",
     "text": [
      "[LightGBM] [Warning] Accuracy may be bad since you didn't set num_leaves and 2^max_depth > num_leaves\n"
     ]
    },
    {
     "name": "stderr",
     "output_type": "stream",
     "text": [
      "C:\\Users\\quent\\AppData\\Roaming\\Python\\Python37\\site-packages\\sklearn\\utils\\validation.py:71: FutureWarning: Pass beta=3 as keyword args. From version 0.25 passing these as positional arguments will result in an error\n",
      "  FutureWarning)\n"
     ]
    },
    {
     "name": "stdout",
     "output_type": "stream",
     "text": [
      "[LightGBM] [Warning] Accuracy may be bad since you didn't set num_leaves and 2^max_depth > num_leaves\n"
     ]
    },
    {
     "name": "stderr",
     "output_type": "stream",
     "text": [
      "C:\\Users\\quent\\AppData\\Roaming\\Python\\Python37\\site-packages\\sklearn\\utils\\validation.py:71: FutureWarning: Pass beta=3 as keyword args. From version 0.25 passing these as positional arguments will result in an error\n",
      "  FutureWarning)\n"
     ]
    },
    {
     "name": "stdout",
     "output_type": "stream",
     "text": [
      "| \u001b[0m 9       \u001b[0m | \u001b[0m 0.0     \u001b[0m | \u001b[0m 0.9672  \u001b[0m | \u001b[0m 3.113   \u001b[0m | \u001b[0m 24.84   \u001b[0m | \u001b[0m 132.3   \u001b[0m | \u001b[0m 2.775   \u001b[0m | \u001b[0m 803.6   \u001b[0m | \u001b[0m 3.868   \u001b[0m | \u001b[0m 1.923   \u001b[0m | \u001b[0m 0.8953  \u001b[0m |\n",
      "[LightGBM] [Warning] Accuracy may be bad since you didn't set num_leaves and 2^max_depth > num_leaves\n"
     ]
    },
    {
     "name": "stderr",
     "output_type": "stream",
     "text": [
      "C:\\Users\\quent\\AppData\\Roaming\\Python\\Python37\\site-packages\\sklearn\\utils\\validation.py:71: FutureWarning: Pass beta=3 as keyword args. From version 0.25 passing these as positional arguments will result in an error\n",
      "  FutureWarning)\n"
     ]
    },
    {
     "name": "stdout",
     "output_type": "stream",
     "text": [
      "[LightGBM] [Warning] Accuracy may be bad since you didn't set num_leaves and 2^max_depth > num_leaves\n"
     ]
    },
    {
     "name": "stderr",
     "output_type": "stream",
     "text": [
      "C:\\Users\\quent\\AppData\\Roaming\\Python\\Python37\\site-packages\\sklearn\\utils\\validation.py:71: FutureWarning: Pass beta=3 as keyword args. From version 0.25 passing these as positional arguments will result in an error\n",
      "  FutureWarning)\n"
     ]
    },
    {
     "name": "stdout",
     "output_type": "stream",
     "text": [
      "[LightGBM] [Warning] Accuracy may be bad since you didn't set num_leaves and 2^max_depth > num_leaves\n"
     ]
    },
    {
     "name": "stderr",
     "output_type": "stream",
     "text": [
      "C:\\Users\\quent\\AppData\\Roaming\\Python\\Python37\\site-packages\\sklearn\\utils\\validation.py:71: FutureWarning: Pass beta=3 as keyword args. From version 0.25 passing these as positional arguments will result in an error\n",
      "  FutureWarning)\n"
     ]
    },
    {
     "name": "stdout",
     "output_type": "stream",
     "text": [
      "[LightGBM] [Warning] Accuracy may be bad since you didn't set num_leaves and 2^max_depth > num_leaves\n"
     ]
    },
    {
     "name": "stderr",
     "output_type": "stream",
     "text": [
      "C:\\Users\\quent\\AppData\\Roaming\\Python\\Python37\\site-packages\\sklearn\\utils\\validation.py:71: FutureWarning: Pass beta=3 as keyword args. From version 0.25 passing these as positional arguments will result in an error\n",
      "  FutureWarning)\n"
     ]
    },
    {
     "name": "stdout",
     "output_type": "stream",
     "text": [
      "[LightGBM] [Warning] Accuracy may be bad since you didn't set num_leaves and 2^max_depth > num_leaves\n"
     ]
    },
    {
     "name": "stderr",
     "output_type": "stream",
     "text": [
      "C:\\Users\\quent\\AppData\\Roaming\\Python\\Python37\\site-packages\\sklearn\\utils\\validation.py:71: FutureWarning: Pass beta=3 as keyword args. From version 0.25 passing these as positional arguments will result in an error\n",
      "  FutureWarning)\n"
     ]
    },
    {
     "name": "stdout",
     "output_type": "stream",
     "text": [
      "| \u001b[0m 10      \u001b[0m | \u001b[0m 0.08603 \u001b[0m | \u001b[0m 0.9948  \u001b[0m | \u001b[0m 0.3101  \u001b[0m | \u001b[0m 28.88   \u001b[0m | \u001b[0m 138.5   \u001b[0m | \u001b[0m 8.191   \u001b[0m | \u001b[0m 807.3   \u001b[0m | \u001b[0m 2.631   \u001b[0m | \u001b[0m 1.081   \u001b[0m | \u001b[0m 0.6001  \u001b[0m |\n",
      "[LightGBM] [Warning] Accuracy may be bad since you didn't set num_leaves and 2^max_depth > num_leaves\n"
     ]
    },
    {
     "name": "stderr",
     "output_type": "stream",
     "text": [
      "C:\\Users\\quent\\AppData\\Roaming\\Python\\Python37\\site-packages\\sklearn\\utils\\validation.py:71: FutureWarning: Pass beta=3 as keyword args. From version 0.25 passing these as positional arguments will result in an error\n",
      "  FutureWarning)\n"
     ]
    },
    {
     "name": "stdout",
     "output_type": "stream",
     "text": [
      "[LightGBM] [Warning] Accuracy may be bad since you didn't set num_leaves and 2^max_depth > num_leaves\n"
     ]
    },
    {
     "name": "stderr",
     "output_type": "stream",
     "text": [
      "C:\\Users\\quent\\AppData\\Roaming\\Python\\Python37\\site-packages\\sklearn\\utils\\validation.py:71: FutureWarning: Pass beta=3 as keyword args. From version 0.25 passing these as positional arguments will result in an error\n",
      "  FutureWarning)\n"
     ]
    },
    {
     "name": "stdout",
     "output_type": "stream",
     "text": [
      "[LightGBM] [Warning] Accuracy may be bad since you didn't set num_leaves and 2^max_depth > num_leaves\n"
     ]
    },
    {
     "name": "stderr",
     "output_type": "stream",
     "text": [
      "C:\\Users\\quent\\AppData\\Roaming\\Python\\Python37\\site-packages\\sklearn\\utils\\validation.py:71: FutureWarning: Pass beta=3 as keyword args. From version 0.25 passing these as positional arguments will result in an error\n",
      "  FutureWarning)\n"
     ]
    },
    {
     "name": "stdout",
     "output_type": "stream",
     "text": [
      "[LightGBM] [Warning] Accuracy may be bad since you didn't set num_leaves and 2^max_depth > num_leaves\n"
     ]
    },
    {
     "name": "stderr",
     "output_type": "stream",
     "text": [
      "C:\\Users\\quent\\AppData\\Roaming\\Python\\Python37\\site-packages\\sklearn\\utils\\validation.py:71: FutureWarning: Pass beta=3 as keyword args. From version 0.25 passing these as positional arguments will result in an error\n",
      "  FutureWarning)\n"
     ]
    },
    {
     "name": "stdout",
     "output_type": "stream",
     "text": [
      "[LightGBM] [Warning] Accuracy may be bad since you didn't set num_leaves and 2^max_depth > num_leaves\n"
     ]
    },
    {
     "name": "stderr",
     "output_type": "stream",
     "text": [
      "C:\\Users\\quent\\AppData\\Roaming\\Python\\Python37\\site-packages\\sklearn\\utils\\validation.py:71: FutureWarning: Pass beta=3 as keyword args. From version 0.25 passing these as positional arguments will result in an error\n",
      "  FutureWarning)\n"
     ]
    },
    {
     "name": "stdout",
     "output_type": "stream",
     "text": [
      "| \u001b[0m 11      \u001b[0m | \u001b[0m 0.001562\u001b[0m | \u001b[0m 0.9727  \u001b[0m | \u001b[0m 3.614   \u001b[0m | \u001b[0m 24.93   \u001b[0m | \u001b[0m 129.8   \u001b[0m | \u001b[0m 9.651   \u001b[0m | \u001b[0m 811.6   \u001b[0m | \u001b[0m 1.589   \u001b[0m | \u001b[0m 2.292   \u001b[0m | \u001b[0m 0.8003  \u001b[0m |\n",
      "[LightGBM] [Warning] Accuracy may be bad since you didn't set num_leaves and 2^max_depth > num_leaves\n"
     ]
    },
    {
     "name": "stderr",
     "output_type": "stream",
     "text": [
      "C:\\Users\\quent\\AppData\\Roaming\\Python\\Python37\\site-packages\\sklearn\\utils\\validation.py:71: FutureWarning: Pass beta=3 as keyword args. From version 0.25 passing these as positional arguments will result in an error\n",
      "  FutureWarning)\n"
     ]
    },
    {
     "name": "stdout",
     "output_type": "stream",
     "text": [
      "[LightGBM] [Warning] Accuracy may be bad since you didn't set num_leaves and 2^max_depth > num_leaves\n"
     ]
    },
    {
     "name": "stderr",
     "output_type": "stream",
     "text": [
      "C:\\Users\\quent\\AppData\\Roaming\\Python\\Python37\\site-packages\\sklearn\\utils\\validation.py:71: FutureWarning: Pass beta=3 as keyword args. From version 0.25 passing these as positional arguments will result in an error\n",
      "  FutureWarning)\n"
     ]
    },
    {
     "name": "stdout",
     "output_type": "stream",
     "text": [
      "[LightGBM] [Warning] Accuracy may be bad since you didn't set num_leaves and 2^max_depth > num_leaves\n"
     ]
    },
    {
     "name": "stderr",
     "output_type": "stream",
     "text": [
      "C:\\Users\\quent\\AppData\\Roaming\\Python\\Python37\\site-packages\\sklearn\\utils\\validation.py:71: FutureWarning: Pass beta=3 as keyword args. From version 0.25 passing these as positional arguments will result in an error\n",
      "  FutureWarning)\n"
     ]
    },
    {
     "name": "stdout",
     "output_type": "stream",
     "text": [
      "[LightGBM] [Warning] Accuracy may be bad since you didn't set num_leaves and 2^max_depth > num_leaves\n"
     ]
    },
    {
     "name": "stderr",
     "output_type": "stream",
     "text": [
      "C:\\Users\\quent\\AppData\\Roaming\\Python\\Python37\\site-packages\\sklearn\\utils\\validation.py:71: FutureWarning: Pass beta=3 as keyword args. From version 0.25 passing these as positional arguments will result in an error\n",
      "  FutureWarning)\n"
     ]
    },
    {
     "name": "stdout",
     "output_type": "stream",
     "text": [
      "[LightGBM] [Warning] Accuracy may be bad since you didn't set num_leaves and 2^max_depth > num_leaves\n"
     ]
    },
    {
     "name": "stderr",
     "output_type": "stream",
     "text": [
      "C:\\Users\\quent\\AppData\\Roaming\\Python\\Python37\\site-packages\\sklearn\\utils\\validation.py:71: FutureWarning: Pass beta=3 as keyword args. From version 0.25 passing these as positional arguments will result in an error\n",
      "  FutureWarning)\n"
     ]
    },
    {
     "name": "stdout",
     "output_type": "stream",
     "text": [
      "| \u001b[0m 12      \u001b[0m | \u001b[0m 0.06261 \u001b[0m | \u001b[0m 0.9687  \u001b[0m | \u001b[0m 0.7611  \u001b[0m | \u001b[0m 18.07   \u001b[0m | \u001b[0m 477.7   \u001b[0m | \u001b[0m 2.532   \u001b[0m | \u001b[0m 2.741e+0\u001b[0m | \u001b[0m 2.255   \u001b[0m | \u001b[0m 2.826   \u001b[0m | \u001b[0m 0.6143  \u001b[0m |\n",
      "[LightGBM] [Warning] Accuracy may be bad since you didn't set num_leaves and 2^max_depth > num_leaves\n"
     ]
    },
    {
     "name": "stderr",
     "output_type": "stream",
     "text": [
      "C:\\Users\\quent\\AppData\\Roaming\\Python\\Python37\\site-packages\\sklearn\\utils\\validation.py:71: FutureWarning: Pass beta=3 as keyword args. From version 0.25 passing these as positional arguments will result in an error\n",
      "  FutureWarning)\n"
     ]
    },
    {
     "name": "stdout",
     "output_type": "stream",
     "text": [
      "[LightGBM] [Warning] Accuracy may be bad since you didn't set num_leaves and 2^max_depth > num_leaves\n"
     ]
    },
    {
     "name": "stderr",
     "output_type": "stream",
     "text": [
      "C:\\Users\\quent\\AppData\\Roaming\\Python\\Python37\\site-packages\\sklearn\\utils\\validation.py:71: FutureWarning: Pass beta=3 as keyword args. From version 0.25 passing these as positional arguments will result in an error\n",
      "  FutureWarning)\n"
     ]
    },
    {
     "name": "stdout",
     "output_type": "stream",
     "text": [
      "[LightGBM] [Warning] Accuracy may be bad since you didn't set num_leaves and 2^max_depth > num_leaves\n"
     ]
    },
    {
     "name": "stderr",
     "output_type": "stream",
     "text": [
      "C:\\Users\\quent\\AppData\\Roaming\\Python\\Python37\\site-packages\\sklearn\\utils\\validation.py:71: FutureWarning: Pass beta=3 as keyword args. From version 0.25 passing these as positional arguments will result in an error\n",
      "  FutureWarning)\n"
     ]
    },
    {
     "name": "stdout",
     "output_type": "stream",
     "text": [
      "[LightGBM] [Warning] Accuracy may be bad since you didn't set num_leaves and 2^max_depth > num_leaves\n"
     ]
    },
    {
     "name": "stderr",
     "output_type": "stream",
     "text": [
      "C:\\Users\\quent\\AppData\\Roaming\\Python\\Python37\\site-packages\\sklearn\\utils\\validation.py:71: FutureWarning: Pass beta=3 as keyword args. From version 0.25 passing these as positional arguments will result in an error\n",
      "  FutureWarning)\n"
     ]
    },
    {
     "name": "stdout",
     "output_type": "stream",
     "text": [
      "[LightGBM] [Warning] Accuracy may be bad since you didn't set num_leaves and 2^max_depth > num_leaves\n"
     ]
    },
    {
     "name": "stderr",
     "output_type": "stream",
     "text": [
      "C:\\Users\\quent\\AppData\\Roaming\\Python\\Python37\\site-packages\\sklearn\\utils\\validation.py:71: FutureWarning: Pass beta=3 as keyword args. From version 0.25 passing these as positional arguments will result in an error\n",
      "  FutureWarning)\n"
     ]
    },
    {
     "name": "stdout",
     "output_type": "stream",
     "text": [
      "| \u001b[0m 13      \u001b[0m | \u001b[0m 0.003802\u001b[0m | \u001b[0m 0.9597  \u001b[0m | \u001b[0m 2.191   \u001b[0m | \u001b[0m 26.01   \u001b[0m | \u001b[0m 136.6   \u001b[0m | \u001b[0m 4.215   \u001b[0m | \u001b[0m 826.7   \u001b[0m | \u001b[0m 2.165   \u001b[0m | \u001b[0m 3.152   \u001b[0m | \u001b[0m 0.8601  \u001b[0m |\n",
      "[LightGBM] [Warning] Accuracy may be bad since you didn't set num_leaves and 2^max_depth > num_leaves\n"
     ]
    },
    {
     "name": "stderr",
     "output_type": "stream",
     "text": [
      "C:\\Users\\quent\\AppData\\Roaming\\Python\\Python37\\site-packages\\sklearn\\utils\\validation.py:71: FutureWarning: Pass beta=3 as keyword args. From version 0.25 passing these as positional arguments will result in an error\n",
      "  FutureWarning)\n"
     ]
    },
    {
     "name": "stdout",
     "output_type": "stream",
     "text": [
      "[LightGBM] [Warning] Accuracy may be bad since you didn't set num_leaves and 2^max_depth > num_leaves\n"
     ]
    },
    {
     "name": "stderr",
     "output_type": "stream",
     "text": [
      "C:\\Users\\quent\\AppData\\Roaming\\Python\\Python37\\site-packages\\sklearn\\utils\\validation.py:71: FutureWarning: Pass beta=3 as keyword args. From version 0.25 passing these as positional arguments will result in an error\n",
      "  FutureWarning)\n"
     ]
    },
    {
     "name": "stdout",
     "output_type": "stream",
     "text": [
      "[LightGBM] [Warning] Accuracy may be bad since you didn't set num_leaves and 2^max_depth > num_leaves\n"
     ]
    },
    {
     "name": "stderr",
     "output_type": "stream",
     "text": [
      "C:\\Users\\quent\\AppData\\Roaming\\Python\\Python37\\site-packages\\sklearn\\utils\\validation.py:71: FutureWarning: Pass beta=3 as keyword args. From version 0.25 passing these as positional arguments will result in an error\n",
      "  FutureWarning)\n"
     ]
    },
    {
     "name": "stdout",
     "output_type": "stream",
     "text": [
      "[LightGBM] [Warning] Accuracy may be bad since you didn't set num_leaves and 2^max_depth > num_leaves\n"
     ]
    },
    {
     "name": "stderr",
     "output_type": "stream",
     "text": [
      "C:\\Users\\quent\\AppData\\Roaming\\Python\\Python37\\site-packages\\sklearn\\utils\\validation.py:71: FutureWarning: Pass beta=3 as keyword args. From version 0.25 passing these as positional arguments will result in an error\n",
      "  FutureWarning)\n"
     ]
    },
    {
     "name": "stdout",
     "output_type": "stream",
     "text": [
      "[LightGBM] [Warning] Accuracy may be bad since you didn't set num_leaves and 2^max_depth > num_leaves\n"
     ]
    },
    {
     "name": "stderr",
     "output_type": "stream",
     "text": [
      "C:\\Users\\quent\\AppData\\Roaming\\Python\\Python37\\site-packages\\sklearn\\utils\\validation.py:71: FutureWarning: Pass beta=3 as keyword args. From version 0.25 passing these as positional arguments will result in an error\n",
      "  FutureWarning)\n"
     ]
    },
    {
     "name": "stdout",
     "output_type": "stream",
     "text": [
      "| \u001b[0m 14      \u001b[0m | \u001b[0m 0.0285  \u001b[0m | \u001b[0m 0.6193  \u001b[0m | \u001b[0m 1.611   \u001b[0m | \u001b[0m 27.49   \u001b[0m | \u001b[0m 120.6   \u001b[0m | \u001b[0m 6.048   \u001b[0m | \u001b[0m 809.4   \u001b[0m | \u001b[0m 1.078   \u001b[0m | \u001b[0m 2.495   \u001b[0m | \u001b[0m 0.8631  \u001b[0m |\n",
      "[LightGBM] [Warning] Accuracy may be bad since you didn't set num_leaves and 2^max_depth > num_leaves\n"
     ]
    },
    {
     "name": "stderr",
     "output_type": "stream",
     "text": [
      "C:\\Users\\quent\\AppData\\Roaming\\Python\\Python37\\site-packages\\sklearn\\utils\\validation.py:71: FutureWarning: Pass beta=3 as keyword args. From version 0.25 passing these as positional arguments will result in an error\n",
      "  FutureWarning)\n"
     ]
    },
    {
     "name": "stdout",
     "output_type": "stream",
     "text": [
      "[LightGBM] [Warning] Accuracy may be bad since you didn't set num_leaves and 2^max_depth > num_leaves\n"
     ]
    },
    {
     "name": "stderr",
     "output_type": "stream",
     "text": [
      "C:\\Users\\quent\\AppData\\Roaming\\Python\\Python37\\site-packages\\sklearn\\utils\\validation.py:71: FutureWarning: Pass beta=3 as keyword args. From version 0.25 passing these as positional arguments will result in an error\n",
      "  FutureWarning)\n"
     ]
    },
    {
     "name": "stdout",
     "output_type": "stream",
     "text": [
      "[LightGBM] [Warning] Accuracy may be bad since you didn't set num_leaves and 2^max_depth > num_leaves\n"
     ]
    },
    {
     "name": "stderr",
     "output_type": "stream",
     "text": [
      "C:\\Users\\quent\\AppData\\Roaming\\Python\\Python37\\site-packages\\sklearn\\utils\\validation.py:71: FutureWarning: Pass beta=3 as keyword args. From version 0.25 passing these as positional arguments will result in an error\n",
      "  FutureWarning)\n"
     ]
    },
    {
     "name": "stdout",
     "output_type": "stream",
     "text": [
      "[LightGBM] [Warning] Accuracy may be bad since you didn't set num_leaves and 2^max_depth > num_leaves\n"
     ]
    },
    {
     "name": "stderr",
     "output_type": "stream",
     "text": [
      "C:\\Users\\quent\\AppData\\Roaming\\Python\\Python37\\site-packages\\sklearn\\utils\\validation.py:71: FutureWarning: Pass beta=3 as keyword args. From version 0.25 passing these as positional arguments will result in an error\n",
      "  FutureWarning)\n"
     ]
    },
    {
     "name": "stdout",
     "output_type": "stream",
     "text": [
      "[LightGBM] [Warning] Accuracy may be bad since you didn't set num_leaves and 2^max_depth > num_leaves\n",
      "| \u001b[0m 15      \u001b[0m | \u001b[0m 0.0745  \u001b[0m | \u001b[0m 0.8949  \u001b[0m | \u001b[0m 0.437   \u001b[0m | \u001b[0m 18.74   \u001b[0m | \u001b[0m 489.2   \u001b[0m | \u001b[0m 3.816   \u001b[0m | \u001b[0m 2.745e+0\u001b[0m | \u001b[0m 1.319   \u001b[0m | \u001b[0m 1.93    \u001b[0m | \u001b[0m 0.9241  \u001b[0m |\n",
      "=====================================================================================================================================\n",
      "0.08776295204117351\n"
     ]
    },
    {
     "name": "stderr",
     "output_type": "stream",
     "text": [
      "C:\\Users\\quent\\AppData\\Roaming\\Python\\Python37\\site-packages\\sklearn\\utils\\validation.py:71: FutureWarning: Pass beta=3 as keyword args. From version 0.25 passing these as positional arguments will result in an error\n",
      "  FutureWarning)\n"
     ]
    }
   ],
   "source": [
    "target_function = build_target_function(X_train, y_train)\n",
    "LGB_BO = BayesianOptimization(target_function, bounds_LGB)\n",
    "LGB_BO.maximize(init_points=5, n_iter=10)\n",
    "print(LGB_BO.max['target']) "
   ]
  },
  {
   "cell_type": "code",
   "execution_count": 27,
   "metadata": {},
   "outputs": [
    {
     "data": {
      "text/plain": [
       "{'colsample_bytree': 0.7618486694741439,\n",
       " 'learning_rate': 0.24335530605989542,\n",
       " 'max_depth': 27.472985385276438,\n",
       " 'min_child_samples': 129.74502363072654,\n",
       " 'min_child_weight': 5.104208879418903,\n",
       " 'n_estimators': 809.9834653755213,\n",
       " 'reg_alpha': 2.0811143718254352,\n",
       " 'reg_lambda': 3.7680361490849936,\n",
       " 'subsample': 0.7143953815799676}"
      ]
     },
     "execution_count": 27,
     "metadata": {},
     "output_type": "execute_result"
    }
   ],
   "source": [
    "LGB_BO.max['params']"
   ]
  },
  {
   "cell_type": "code",
   "execution_count": 28,
   "metadata": {},
   "outputs": [],
   "source": [
    "smote = SMOTE(random_state = 42)"
   ]
  },
  {
   "cell_type": "code",
   "execution_count": 29,
   "metadata": {},
   "outputs": [
    {
     "name": "stdout",
     "output_type": "stream",
     "text": [
      "[LightGBM] [Warning] Accuracy may be bad since you didn't set num_leaves and 2^max_depth > num_leaves\n"
     ]
    },
    {
     "data": {
      "text/plain": [
       "LGBMClassifier(colsample_bytree=0.7618486694741439,\n",
       "               learning_rate=0.5710112883770895, max_depth=27,\n",
       "               min_child_samples=130, min_child_weight=5.104208879418903,\n",
       "               n_estimators=810, reg_alpha=0.008296322543749467,\n",
       "               reg_lambda=0.0001705940386852057, subsample=0.7143953815799676)"
      ]
     },
     "execution_count": 29,
     "metadata": {},
     "output_type": "execute_result"
    }
   ],
   "source": [
    "param = LGB_BO.max['params']\n",
    "model = LGBMClassifier( learning_rate = 10**(-param['learning_rate']), n_estimators = int(round(param['n_estimators'])),\n",
    "                        max_depth = int(round(param['max_depth'])), min_child_weight = param['min_child_weight'], \n",
    "                        min_child_samples = int(round(param['min_child_samples'])),\n",
    "                        subsample = param['subsample'], colsample_bytree = param['colsample_bytree'],\n",
    "                        reg_lambda = 10**(-param['reg_lambda']), reg_alpha = 10**(-param['reg_alpha']))\n",
    "X_smote, y_smote = smote.fit_resample(X_train, y_train)\n",
    "model.fit(X_smote, y_smote)"
   ]
  },
  {
   "cell_type": "code",
   "execution_count": 30,
   "metadata": {},
   "outputs": [
    {
     "data": {
      "text/plain": [
       "0.8214110657083622"
      ]
     },
     "execution_count": 30,
     "metadata": {},
     "output_type": "execute_result"
    }
   ],
   "source": [
    "Ypred = model.predict_proba(X_val)[:,1]\n",
    "roc_auc_score(y_val, Ypred)"
   ]
  },
  {
   "cell_type": "code",
   "execution_count": 31,
   "metadata": {},
   "outputs": [],
   "source": [
    "max_predi = (model.predict_proba(X_val)[:,1] >=0.5) .astype(bool)"
   ]
  },
  {
   "cell_type": "code",
   "execution_count": 32,
   "metadata": {},
   "outputs": [
    {
     "data": {
      "text/plain": [
       "Text(0.5, 51.0, 'Predicted Label')"
      ]
     },
     "execution_count": 32,
     "metadata": {},
     "output_type": "execute_result"
    },
    {
     "data": {
      "image/png": "[encoded data removed]",
      "text/plain": [
       "<Figure size 576x576 with 1 Axes>"
      ]
     },
     "metadata": {
      "needs_background": "light"
     },
     "output_type": "display_data"
    }
   ],
   "source": [
    "cm = confusion_matrix(y_val,\n",
    "                      max_predi)\n",
    "\n",
    "plt.figure(figsize=(8,8))\n",
    "plt.title('Confusion Matrix Baseline on validation set (SMOTE)',fontsize=15)\n",
    "f = sns.heatmap(cm,\n",
    "                cmap='Blues',\n",
    "                cbar=False,\n",
    "                annot=True,\n",
    "                fmt='g')\n",
    "f.set_ylabel('True Label',fontsize=15)\n",
    "f.set_xlabel('Predicted Label',fontsize=15)"
   ]
  },
  {
   "cell_type": "code",
   "execution_count": null,
   "metadata": {},
   "outputs": [],
   "source": []
  }
 ],
 "metadata": {
  "kernelspec": {
   "display_name": "Python 3",
   "language": "python",
   "name": "python3"
  },
  "language_info": {
   "codemirror_mode": {
    "name": "ipython",
    "version": 3
   },
   "file_extension": ".py",
   "mimetype": "text/x-python",
   "name": "python",
   "nbconvert_exporter": "python",
   "pygments_lexer": "ipython3",
   "version": "3.7.6"
  },
  "toc": {
   "base_numbering": 1,
   "nav_menu": {},
   "number_sections": true,
   "sideBar": true,
   "skip_h1_title": false,
   "title_cell": "Table of Contents",
   "title_sidebar": "Contents",
   "toc_cell": false,
   "toc_position": {
    "height": "calc(100% - 180px)",
    "left": "10px",
    "top": "150px",
    "width": "426.667px"
   },
   "toc_section_display": true,
   "toc_window_display": true
  }
 },
 "nbformat": 4,
 "nbformat_minor": 4
}
